{
 "cells": [
  {
   "cell_type": "code",
   "execution_count": 1,
   "metadata": {},
   "outputs": [],
   "source": [
    "from string import ascii_lowercase\n",
    "from random import choices"
   ]
  },
  {
   "cell_type": "code",
   "execution_count": 2,
   "metadata": {},
   "outputs": [],
   "source": [
    "lc = ascii_lowercase + ' '\n",
    "\n",
    "target = \"methinks it is like a weasel\""
   ]
  },
  {
   "cell_type": "code",
   "execution_count": 3,
   "metadata": {},
   "outputs": [
    {
     "name": "stdout",
     "output_type": "stream",
     "text": [
      "abcdefghijklmnopqrstuvwxyz \n"
     ]
    },
    {
     "data": {
      "text/plain": [
       "28"
      ]
     },
     "execution_count": 3,
     "metadata": {},
     "output_type": "execute_result"
    }
   ],
   "source": [
    "print(lc)\n",
    "len(target)"
   ]
  },
  {
   "cell_type": "code",
   "execution_count": 4,
   "metadata": {},
   "outputs": [],
   "source": [
    "# a = None\n",
    "# c = 0\n",
    "\n",
    "# while a != target:\n",
    "#     a = ''.join(choices(lc, k=len(target)))\n",
    "#     c += 1\n",
    "#     if c % 10_000 == 0:\n",
    "#         print(a)\n",
    "\n",
    "\n",
    "# print(a, c)"
   ]
  },
  {
   "cell_type": "code",
   "execution_count": 5,
   "metadata": {},
   "outputs": [
    {
     "data": {
      "text/plain": [
       "['m',\n",
       " 'e',\n",
       " 't',\n",
       " 'h',\n",
       " 'i',\n",
       " 'n',\n",
       " 'k',\n",
       " 's',\n",
       " ' ',\n",
       " 'i',\n",
       " 't',\n",
       " ' ',\n",
       " 'i',\n",
       " 's',\n",
       " ' ',\n",
       " 'l',\n",
       " 'i',\n",
       " 'k',\n",
       " 'e',\n",
       " ' ',\n",
       " 'a',\n",
       " ' ',\n",
       " 'w',\n",
       " 'e',\n",
       " 'a',\n",
       " 's',\n",
       " 'e',\n",
       " 'l']"
      ]
     },
     "execution_count": 5,
     "metadata": {},
     "output_type": "execute_result"
    }
   ],
   "source": [
    "target_list = list(target)\n",
    "target_list"
   ]
  },
  {
   "cell_type": "code",
   "execution_count": 6,
   "metadata": {},
   "outputs": [
    {
     "data": {
      "text/plain": [
       "3"
      ]
     },
     "execution_count": 6,
     "metadata": {},
     "output_type": "execute_result"
    }
   ],
   "source": [
    "def generate_one(str_len):\n",
    "\n",
    "    lc = ascii_lowercase + ' '\n",
    "    return ''.join(choices(lc, k=str_len))\n",
    "\n",
    "\n",
    "def score(given_str, target_str):\n",
    "\n",
    "    return sum((1 for i in range(len(given_str)) if given_str[i] == target_str[i]))\n",
    "\n",
    "\n",
    "score('bear', 'bean')"
   ]
  },
  {
   "cell_type": "code",
   "execution_count": 10,
   "metadata": {},
   "outputs": [
    {
     "name": "stdout",
     "output_type": "stream",
     "text": [
      "1 fcsqigx crwlxgd qyosnjlkqy f 1\n",
      "3 dwxdiult rzjlb jgzsdfdjonxxw 2\n",
      "4 yxdmipsu xryqe fc n nziqtxpa 3\n",
      "6 escximay dtlww nacg ajtpdphg 6\n",
      "7 iauziezm htpaw luba aanguxyj 7\n",
      "8 xjkgioyv qtvkj lwar aovmcleu 8\n",
      "9 ierxirry ytuue ljam ajeqtfep 10\n",
      "10 pejeijep htjpn lbyv aevsarez 11\n",
      "11 eezhieje jtdwg lhsc aebnaoeh 12\n",
      "14 xethiels etqps ld s avsyawes 13\n",
      "15 wethicfs ttbns lkkg awhxaped 20\n",
      "16 qethiois htscs lhkz ateeaxer 25\n",
      "18 wethikos xtdis likf axieagec 27\n",
      "19 hethinus rtzis liks aqmeame  44\n",
      "21 aethinqs itpis liku amaeapel 45\n",
      "22 dethinis itvis likp a teakel 47\n",
      "23 rethinks itris likm a aeaeel 68\n",
      "24 gethinks itdis likf a weaeel 69\n",
      "25 methinks itnis likw a weakel 74\n",
      "26 methinks it is likx a weamel 100\n",
      "27 methinks it is like a weaael 137\n",
      "28 methinks it is like a weasel 146\n"
     ]
    }
   ],
   "source": [
    "best_str = \"\".join(['_' for i in range(len(target))])\n",
    "\n",
    "best_score = 0\n",
    "total_attempts = 0\n",
    "\n",
    "while best_str != target:\n",
    "    total_attempts += 1\n",
    "\n",
    "    for i in range(len(best_str)):\n",
    "\n",
    "        if best_str[i] != target[i]:\n",
    "\n",
    "            best_str = best_str[:i] + generate_one(1) + best_str[i+1:]\n",
    "\n",
    "    curr_score = score(best_str, target)\n",
    "\n",
    "    if curr_score > best_score:\n",
    "\n",
    "        best_score = curr_score\n",
    "\n",
    "        print(best_score, best_str, total_attempts)"
   ]
  },
  {
   "cell_type": "code",
   "execution_count": null,
   "metadata": {},
   "outputs": [],
   "source": []
  }
 ],
 "metadata": {
  "kernelspec": {
   "display_name": "base_rise",
   "language": "python",
   "name": "python3"
  },
  "language_info": {
   "codemirror_mode": {
    "name": "ipython",
    "version": 3
   },
   "file_extension": ".py",
   "mimetype": "text/x-python",
   "name": "python",
   "nbconvert_exporter": "python",
   "pygments_lexer": "ipython3",
   "version": "3.11.4"
  }
 },
 "nbformat": 4,
 "nbformat_minor": 2
}
